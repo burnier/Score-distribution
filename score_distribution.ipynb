{
 "cells": [
  {
   "cell_type": "markdown",
   "metadata": {},
   "source": [
    "## Programming exercise 1: Score distribution\n",
    "### Goals:\n",
    "1. All POIs should end up with a score between 0 and 10.\n",
    "2. There should be significantly more POIs with score between k-1 and k than between k and k+1 for all k in [1..9].\n",
    "3. Very few POIs should end up with a score between 9 and 10.  Such high scores should really only go to the very best POIs in the world: aim to have about 0.1%-0.2% of POIs in this range.\n",
    "4. The algorithm should work regardless of the range and distribution of the input scores.\n",
    "\n",
    "--> I refer to these goals in the comments as **[GOAL1], [GOAL2], [GOAL3], [GOAL4].**\n",
    "\n",
    "### Approach\n",
    "This Notebook is divided in two parts:\n",
    "* Part 1) I perform a short analysis of the first data set (section a) and third data set (section b) listing the steps necessary for the re-scoring. I use the Zipf power law function as suggested, presenting the results and making an assessment of how well they satisfy the required GOALS.\n",
    "\n",
    "* Part 2) The approach is very similar to the one in Part 1. The only different is that I use here a different Power funcion and apply it to the remaining data set (second one), also here I explain how well the [GOALS] are met.\n",
    "\n",
    "### Obs: \n",
    "- I decided not to define general functions for repetitive steps and leave these in a more \"scripting way\" - of course the data ingestion, pre-processing and re-scoring could be encapsulated in functions for re-use. \n",
    "- Even though in the description of the excersice you require to preserve the relative order of the POI scores ONLY for the part 1, I decided to do it for both (when possible - as the second data set has duplicate POI ids)"
   ]
  },
  {
   "cell_type": "markdown",
   "metadata": {},
   "source": [
    "### Libraries used\n",
    "I decided to use pandas dataframes to store the data sets and manipulate them. Numpy was used for some basic functions and also for calling the Zipf (**numpy.random.zipf**) & Power (**numpy.random.power**) functions. Also matplotlip was used for some data plotting."
   ]
  },
  {
   "cell_type": "code",
   "execution_count": 22,
   "metadata": {},
   "outputs": [],
   "source": [
    "# import relevant libraries\n",
    "import pandas as pd\n",
    "import numpy as np\n",
    "import matplotlib.pyplot as plt"
   ]
  },
  {
   "cell_type": "markdown",
   "metadata": {},
   "source": [
    "### Importing data"
   ]
  },
  {
   "cell_type": "code",
   "execution_count": 23,
   "metadata": {},
   "outputs": [],
   "source": [
    "#data is imported into pandas data frames\n",
    "df1 = pd.read_csv('raw_scores.list1', delimiter=' ', header=None)\n",
    "df2 = pd.read_csv('raw_scores.list2', delimiter=' ', header=None)\n",
    "df3 = pd.read_csv('raw_scores.list3', delimiter=' ', header=None)\n",
    "# add labels to the columns\n",
    "df1.columns = ['id', 'score']\n",
    "df2.columns = ['id', 'score']\n",
    "df3.columns = ['id', 'score']"
   ]
  },
  {
   "cell_type": "markdown",
   "metadata": {},
   "source": [
    "## PART 1 (a) - First data set [Zipf Function]"
   ]
  },
  {
   "cell_type": "markdown",
   "metadata": {},
   "source": [
    "####  DATA PRE-ANALYSIS:\n",
    "The first data set has unique POI ids and a few duplicate scores (which is fine). Indeed the scores are very low, which can be observed by checking the percentiles (25,50,75).\n",
    "\n",
    "I also plotted a histogram of the original data distribution among the 10 categories - we can see that most of the ranks for this data set are between 2 and 3, which is not in conformity with [GOAL2]\n",
    "\n",
    "To easen the analysis I sorted the original dataframe by descending scores. "
   ]
  },
  {
   "cell_type": "code",
   "execution_count": 687,
   "metadata": {},
   "outputs": [
    {
     "data": {
      "text/plain": [
       "T__c559a21c8b9a    1\n",
       "T__c937e1b0612d    1\n",
       "T__3a67884aaa71    1\n",
       "T__c97b0676d7e6    1\n",
       "T__e9588720a635    1\n",
       "                  ..\n",
       "T__979ccab4fb17    1\n",
       "T__ca2777747600    1\n",
       "T__e969b326aefb    1\n",
       "T__ed1d12fc9b33    1\n",
       "T__5b8ee000ec7b    1\n",
       "Name: id, Length: 91897, dtype: int64"
      ]
     },
     "execution_count": 687,
     "metadata": {},
     "output_type": "execute_result"
    }
   ],
   "source": [
    "# Uniqueness test 'ids': All 'POI ids' are unique \n",
    "df1['id'].value_counts()"
   ]
  },
  {
   "cell_type": "code",
   "execution_count": 688,
   "metadata": {},
   "outputs": [
    {
     "data": {
      "text/plain": [
       "4.659384    2\n",
       "4.104999    2\n",
       "2.183322    2\n",
       "1.934045    2\n",
       "0.235774    2\n",
       "           ..\n",
       "3.220971    1\n",
       "1.429778    1\n",
       "1.202740    1\n",
       "2.692523    1\n",
       "1.141867    1\n",
       "Name: score, Length: 91885, dtype: int64"
      ]
     },
     "execution_count": 688,
     "metadata": {},
     "output_type": "execute_result"
    }
   ],
   "source": [
    "# Uniqueness test 'score': not all scores are unique --> 12 scores 91897 are repeated.\n",
    "df1['score'].value_counts()"
   ]
  },
  {
   "cell_type": "code",
   "execution_count": 689,
   "metadata": {},
   "outputs": [
    {
     "data": {
      "text/html": [
       "<div>\n",
       "<style scoped>\n",
       "    .dataframe tbody tr th:only-of-type {\n",
       "        vertical-align: middle;\n",
       "    }\n",
       "\n",
       "    .dataframe tbody tr th {\n",
       "        vertical-align: top;\n",
       "    }\n",
       "\n",
       "    .dataframe thead th {\n",
       "        text-align: right;\n",
       "    }\n",
       "</style>\n",
       "<table border=\"1\" class=\"dataframe\">\n",
       "  <thead>\n",
       "    <tr style=\"text-align: right;\">\n",
       "      <th></th>\n",
       "      <th>score</th>\n",
       "    </tr>\n",
       "  </thead>\n",
       "  <tbody>\n",
       "    <tr>\n",
       "      <th>count</th>\n",
       "      <td>91897.000000</td>\n",
       "    </tr>\n",
       "    <tr>\n",
       "      <th>mean</th>\n",
       "      <td>2.666456</td>\n",
       "    </tr>\n",
       "    <tr>\n",
       "      <th>std</th>\n",
       "      <td>1.254700</td>\n",
       "    </tr>\n",
       "    <tr>\n",
       "      <th>min</th>\n",
       "      <td>0.075584</td>\n",
       "    </tr>\n",
       "    <tr>\n",
       "      <th>25%</th>\n",
       "      <td>1.697081</td>\n",
       "    </tr>\n",
       "    <tr>\n",
       "      <th>50%</th>\n",
       "      <td>2.716161</td>\n",
       "    </tr>\n",
       "    <tr>\n",
       "      <th>75%</th>\n",
       "      <td>3.430307</td>\n",
       "    </tr>\n",
       "    <tr>\n",
       "      <th>max</th>\n",
       "      <td>9.978895</td>\n",
       "    </tr>\n",
       "  </tbody>\n",
       "</table>\n",
       "</div>"
      ],
      "text/plain": [
       "              score\n",
       "count  91897.000000\n",
       "mean       2.666456\n",
       "std        1.254700\n",
       "min        0.075584\n",
       "25%        1.697081\n",
       "50%        2.716161\n",
       "75%        3.430307\n",
       "max        9.978895"
      ]
     },
     "execution_count": 689,
     "metadata": {},
     "output_type": "execute_result"
    }
   ],
   "source": [
    "# basic statistical info of the distribution\n",
    "df1.describe()"
   ]
  },
  {
   "cell_type": "code",
   "execution_count": 690,
   "metadata": {},
   "outputs": [
    {
     "data": {
      "image/png": "[encoded data removed]",
      "text/plain": [
       "<Figure size 432x288 with 1 Axes>"
      ]
     },
     "metadata": {
      "needs_background": "light"
     },
     "output_type": "display_data"
    }
   ],
   "source": [
    "#histogram of origianl score distribution among the 10 categories\n",
    "x = df1['score']\n",
    "num_bins = 10\n",
    "n, bins, patches = plt.hist(x, num_bins, facecolor='blue', alpha=0.5, ec='black')\n",
    "plt.show()"
   ]
  },
  {
   "cell_type": "code",
   "execution_count": 691,
   "metadata": {},
   "outputs": [],
   "source": [
    "# Sorting the original dataframe by descending scores. \n",
    "df1_sorted = df1.sort_values(by=['score', 'id'], ascending=False)"
   ]
  },
  {
   "cell_type": "markdown",
   "metadata": {},
   "source": [
    "####  RE-SCORING:\n",
    "As suggested by you I decided to create Zipfian (Zipf) distribution. The function generates a random Zipfian distribution and will be, therefore different everytime it is called. The distribution parameter (a) is expected to be greater than 1. Empirism shows that, for higher a values, the drop in the scores is very fast.\n",
    "I decided for using the following values for test purposes and checked how many POIs were between [9-10] by using the NEW SCORES ALONE: \n",
    "\n",
    "1) a = 2:    ~ 0,0011% of the POI ids having scores within 9-10 (much lower than [GOAL3])<br>\n",
    "2) a = 1.1:  ~ 0.13% of the POI ids having scores within 9-10 (satisfies [GOAL3])<br>\n",
    "3) a = 1.01: ~ 0.43% of the POI ids having scores within 9-10 (too high - exceeds [GOAL3])\n",
    "\n",
    "Since we need to garantee that about 0.1%-0.2%, I would go for a = 1.1"
   ]
  },
  {
   "cell_type": "code",
   "execution_count": 692,
   "metadata": {},
   "outputs": [],
   "source": [
    "a = 1.1\n",
    "zipf_dist = np.random.zipf(a,df1.shape[0])"
   ]
  },
  {
   "cell_type": "code",
   "execution_count": 693,
   "metadata": {},
   "outputs": [],
   "source": [
    "#sort Zipf distribution  \n",
    "zipf_dist[::-1].sort()\n",
    "\n",
    "#normalize values between 0-10 to fulfill [GOAL1]\n",
    "zipf_dist_norm = ((zipf_dist-min(zipf_dist))/(max(zipf_dist)-min(zipf_dist))) * 10\n",
    "\n",
    "# add normalized scores as a new column to the dataframe - by adding the sorted distribution to the already \n",
    "# sorted dataframe, we guarantee that the relative order of the POI scores is preserved.\n",
    "df1_sorted['zipf score'] = zipf_dist_norm"
   ]
  },
  {
   "cell_type": "markdown",
   "metadata": {},
   "source": [
    "For long lists of values, the Zipf power law leeds to an extremely bottom-heavy distribution, ending with many values equal to the minimum - This not only cause that many values are repeated, but also does not comply with the requirement that the \n",
    " relative order of POI ids should be preserved - therefore I mixed the original scores with the Zipf scores\n",
    "by creating a new score (mix score). These are calculated by the weighted average of the original and Zipf scores."
   ]
  },
  {
   "cell_type": "code",
   "execution_count": 694,
   "metadata": {},
   "outputs": [],
   "source": [
    "# I found empirically that weights of 90% and 10% respectively would provide the achievement of [GOAL2] & [GOAL3]\n",
    "weight_zipf = 0.9\n",
    "weight_orig = 0.1\n",
    "mix_score = df1_sorted['score']*weight_orig + df1_sorted['zipf score']*weight_zipf\n",
    "df1_sorted['mix score'] = np.where(df1_sorted['score'] > 10, 10, mix_score)"
   ]
  },
  {
   "cell_type": "code",
   "execution_count": 695,
   "metadata": {},
   "outputs": [
    {
     "data": {
      "text/html": [
       "<div>\n",
       "<style scoped>\n",
       "    .dataframe tbody tr th:only-of-type {\n",
       "        vertical-align: middle;\n",
       "    }\n",
       "\n",
       "    .dataframe tbody tr th {\n",
       "        vertical-align: top;\n",
       "    }\n",
       "\n",
       "    .dataframe thead th {\n",
       "        text-align: right;\n",
       "    }\n",
       "</style>\n",
       "<table border=\"1\" class=\"dataframe\">\n",
       "  <thead>\n",
       "    <tr style=\"text-align: right;\">\n",
       "      <th></th>\n",
       "      <th>id</th>\n",
       "      <th>score</th>\n",
       "      <th>zipf score</th>\n",
       "      <th>mix score</th>\n",
       "    </tr>\n",
       "  </thead>\n",
       "  <tbody>\n",
       "    <tr>\n",
       "      <th>12270</th>\n",
       "      <td>T__090ce1e666ea</td>\n",
       "      <td>9.978895</td>\n",
       "      <td>10.000000</td>\n",
       "      <td>9.997889</td>\n",
       "    </tr>\n",
       "    <tr>\n",
       "      <th>48377</th>\n",
       "      <td>T__2174d75627c1</td>\n",
       "      <td>9.919893</td>\n",
       "      <td>9.981566</td>\n",
       "      <td>9.975398</td>\n",
       "    </tr>\n",
       "    <tr>\n",
       "      <th>21746</th>\n",
       "      <td>T__85442a13f9b1</td>\n",
       "      <td>9.741483</td>\n",
       "      <td>9.963294</td>\n",
       "      <td>9.941113</td>\n",
       "    </tr>\n",
       "    <tr>\n",
       "      <th>28623</th>\n",
       "      <td>T__4e2dc10ba3e0</td>\n",
       "      <td>9.725527</td>\n",
       "      <td>9.949366</td>\n",
       "      <td>9.926982</td>\n",
       "    </tr>\n",
       "    <tr>\n",
       "      <th>78151</th>\n",
       "      <td>T__a50467a12849</td>\n",
       "      <td>9.658986</td>\n",
       "      <td>9.936527</td>\n",
       "      <td>9.908773</td>\n",
       "    </tr>\n",
       "    <tr>\n",
       "      <th>17165</th>\n",
       "      <td>T__08161a7d68cf</td>\n",
       "      <td>9.638736</td>\n",
       "      <td>9.916676</td>\n",
       "      <td>9.888882</td>\n",
       "    </tr>\n",
       "    <tr>\n",
       "      <th>2846</th>\n",
       "      <td>T__a6a9d3987005</td>\n",
       "      <td>9.564022</td>\n",
       "      <td>9.874857</td>\n",
       "      <td>9.843774</td>\n",
       "    </tr>\n",
       "    <tr>\n",
       "      <th>23843</th>\n",
       "      <td>T__064a9f565efc</td>\n",
       "      <td>9.482713</td>\n",
       "      <td>9.870646</td>\n",
       "      <td>9.831853</td>\n",
       "    </tr>\n",
       "    <tr>\n",
       "      <th>73290</th>\n",
       "      <td>T__450bc550c54e</td>\n",
       "      <td>9.468666</td>\n",
       "      <td>9.864531</td>\n",
       "      <td>9.824944</td>\n",
       "    </tr>\n",
       "    <tr>\n",
       "      <th>66813</th>\n",
       "      <td>T__7346d3b3c938</td>\n",
       "      <td>9.454223</td>\n",
       "      <td>9.850477</td>\n",
       "      <td>9.810852</td>\n",
       "    </tr>\n",
       "  </tbody>\n",
       "</table>\n",
       "</div>"
      ],
      "text/plain": [
       "                    id     score  zipf score  mix score\n",
       "12270  T__090ce1e666ea  9.978895   10.000000   9.997889\n",
       "48377  T__2174d75627c1  9.919893    9.981566   9.975398\n",
       "21746  T__85442a13f9b1  9.741483    9.963294   9.941113\n",
       "28623  T__4e2dc10ba3e0  9.725527    9.949366   9.926982\n",
       "78151  T__a50467a12849  9.658986    9.936527   9.908773\n",
       "17165  T__08161a7d68cf  9.638736    9.916676   9.888882\n",
       "2846   T__a6a9d3987005  9.564022    9.874857   9.843774\n",
       "23843  T__064a9f565efc  9.482713    9.870646   9.831853\n",
       "73290  T__450bc550c54e  9.468666    9.864531   9.824944\n",
       "66813  T__7346d3b3c938  9.454223    9.850477   9.810852"
      ]
     },
     "execution_count": 695,
     "metadata": {},
     "output_type": "execute_result"
    }
   ],
   "source": [
    "df1_sorted.head(10)"
   ]
  },
  {
   "cell_type": "code",
   "execution_count": 696,
   "metadata": {},
   "outputs": [
    {
     "data": {
      "image/png": "[encoded data removed]",
      "text/plain": [
       "<Figure size 432x288 with 1 Axes>"
      ]
     },
     "metadata": {
      "needs_background": "light"
     },
     "output_type": "display_data"
    }
   ],
   "source": [
    "#histogram of the Zipf score distribution among the 10 categories\n",
    "x = df1['score']\n",
    "num_bins = 10\n",
    "plt.hist(x, num_bins, facecolor='yellow', alpha=0.5, ec='black')\n",
    "\n",
    "x = df1_sorted['mix score']\n",
    "num_bins = 10\n",
    "n, bins, patches = plt.hist(x, num_bins, facecolor='blue', alpha=0.5, ec='black')\n",
    "plt.show()"
   ]
  },
  {
   "cell_type": "code",
   "execution_count": 697,
   "metadata": {},
   "outputs": [
    {
     "name": "stdout",
     "output_type": "stream",
     "text": [
      "[88194.  1451.   662.   392.   340.   254.   188.   163.   136.   117.]\n"
     ]
    }
   ],
   "source": [
    "# number of elements within each score interval: We can see it drops after each interval. However, the drop between [0-1] and\n",
    "# [1-2] is much more dramatic than between other intervals. This leeds to an extremely bottom-heavy distribution.\n",
    "# In my opinion it only satisfies [GOAL2] partially - I would prefer a smoothier distribution from 0 to 10 \n",
    "\n",
    "print(n)"
   ]
  },
  {
   "cell_type": "code",
   "execution_count": 698,
   "metadata": {},
   "outputs": [
    {
     "data": {
      "text/plain": [
       "0.12731645211486775"
      ]
     },
     "execution_count": 698,
     "metadata": {},
     "output_type": "execute_result"
    }
   ],
   "source": [
    "#percentage of elements with scores between 9 and 10: ~ 0.12% [GOAL3] is satisfied!\n",
    "n[-1]/df1.shape[0]*100"
   ]
  },
  {
   "cell_type": "code",
   "execution_count": 699,
   "metadata": {},
   "outputs": [
    {
     "data": {
      "text/html": [
       "<div>\n",
       "<style scoped>\n",
       "    .dataframe tbody tr th:only-of-type {\n",
       "        vertical-align: middle;\n",
       "    }\n",
       "\n",
       "    .dataframe tbody tr th {\n",
       "        vertical-align: top;\n",
       "    }\n",
       "\n",
       "    .dataframe thead th {\n",
       "        text-align: right;\n",
       "    }\n",
       "</style>\n",
       "<table border=\"1\" class=\"dataframe\">\n",
       "  <thead>\n",
       "    <tr style=\"text-align: right;\">\n",
       "      <th></th>\n",
       "      <th>id</th>\n",
       "      <th>score</th>\n",
       "      <th>zipf score</th>\n",
       "      <th>mix score</th>\n",
       "    </tr>\n",
       "  </thead>\n",
       "  <tbody>\n",
       "    <tr>\n",
       "      <th>12270</th>\n",
       "      <td>T__090ce1e666ea</td>\n",
       "      <td>9.978895</td>\n",
       "      <td>10.000000</td>\n",
       "      <td>9.997889</td>\n",
       "    </tr>\n",
       "    <tr>\n",
       "      <th>48377</th>\n",
       "      <td>T__2174d75627c1</td>\n",
       "      <td>9.919893</td>\n",
       "      <td>9.981566</td>\n",
       "      <td>9.975398</td>\n",
       "    </tr>\n",
       "    <tr>\n",
       "      <th>21746</th>\n",
       "      <td>T__85442a13f9b1</td>\n",
       "      <td>9.741483</td>\n",
       "      <td>9.963294</td>\n",
       "      <td>9.941113</td>\n",
       "    </tr>\n",
       "    <tr>\n",
       "      <th>28623</th>\n",
       "      <td>T__4e2dc10ba3e0</td>\n",
       "      <td>9.725527</td>\n",
       "      <td>9.949366</td>\n",
       "      <td>9.926982</td>\n",
       "    </tr>\n",
       "    <tr>\n",
       "      <th>78151</th>\n",
       "      <td>T__a50467a12849</td>\n",
       "      <td>9.658986</td>\n",
       "      <td>9.936527</td>\n",
       "      <td>9.908773</td>\n",
       "    </tr>\n",
       "    <tr>\n",
       "      <th>17165</th>\n",
       "      <td>T__08161a7d68cf</td>\n",
       "      <td>9.638736</td>\n",
       "      <td>9.916676</td>\n",
       "      <td>9.888882</td>\n",
       "    </tr>\n",
       "    <tr>\n",
       "      <th>2846</th>\n",
       "      <td>T__a6a9d3987005</td>\n",
       "      <td>9.564022</td>\n",
       "      <td>9.874857</td>\n",
       "      <td>9.843774</td>\n",
       "    </tr>\n",
       "    <tr>\n",
       "      <th>23843</th>\n",
       "      <td>T__064a9f565efc</td>\n",
       "      <td>9.482713</td>\n",
       "      <td>9.870646</td>\n",
       "      <td>9.831853</td>\n",
       "    </tr>\n",
       "    <tr>\n",
       "      <th>73290</th>\n",
       "      <td>T__450bc550c54e</td>\n",
       "      <td>9.468666</td>\n",
       "      <td>9.864531</td>\n",
       "      <td>9.824944</td>\n",
       "    </tr>\n",
       "    <tr>\n",
       "      <th>66813</th>\n",
       "      <td>T__7346d3b3c938</td>\n",
       "      <td>9.454223</td>\n",
       "      <td>9.850477</td>\n",
       "      <td>9.810852</td>\n",
       "    </tr>\n",
       "  </tbody>\n",
       "</table>\n",
       "</div>"
      ],
      "text/plain": [
       "                    id     score  zipf score  mix score\n",
       "12270  T__090ce1e666ea  9.978895   10.000000   9.997889\n",
       "48377  T__2174d75627c1  9.919893    9.981566   9.975398\n",
       "21746  T__85442a13f9b1  9.741483    9.963294   9.941113\n",
       "28623  T__4e2dc10ba3e0  9.725527    9.949366   9.926982\n",
       "78151  T__a50467a12849  9.658986    9.936527   9.908773\n",
       "17165  T__08161a7d68cf  9.638736    9.916676   9.888882\n",
       "2846   T__a6a9d3987005  9.564022    9.874857   9.843774\n",
       "23843  T__064a9f565efc  9.482713    9.870646   9.831853\n",
       "73290  T__450bc550c54e  9.468666    9.864531   9.824944\n",
       "66813  T__7346d3b3c938  9.454223    9.850477   9.810852"
      ]
     },
     "execution_count": 699,
     "metadata": {},
     "output_type": "execute_result"
    }
   ],
   "source": [
    "df1_sorted.head(10)"
   ]
  },
  {
   "cell_type": "markdown",
   "metadata": {},
   "source": [
    "## PART 1 (b) - Test script with the 3rd sample data [Zipf Function]"
   ]
  },
  {
   "cell_type": "markdown",
   "metadata": {},
   "source": [
    "####  DATA PRE-ANALYSIS:\n",
    "This data set has a score of ~17 and even negative scores. In my re-scoring procedure, I assure that all scores stay within 0 and 10."
   ]
  },
  {
   "cell_type": "code",
   "execution_count": 700,
   "metadata": {},
   "outputs": [
    {
     "data": {
      "text/html": [
       "<div>\n",
       "<style scoped>\n",
       "    .dataframe tbody tr th:only-of-type {\n",
       "        vertical-align: middle;\n",
       "    }\n",
       "\n",
       "    .dataframe tbody tr th {\n",
       "        vertical-align: top;\n",
       "    }\n",
       "\n",
       "    .dataframe thead th {\n",
       "        text-align: right;\n",
       "    }\n",
       "</style>\n",
       "<table border=\"1\" class=\"dataframe\">\n",
       "  <thead>\n",
       "    <tr style=\"text-align: right;\">\n",
       "      <th></th>\n",
       "      <th>score</th>\n",
       "    </tr>\n",
       "  </thead>\n",
       "  <tbody>\n",
       "    <tr>\n",
       "      <th>count</th>\n",
       "      <td>89718.000000</td>\n",
       "    </tr>\n",
       "    <tr>\n",
       "      <th>mean</th>\n",
       "      <td>4.985129</td>\n",
       "    </tr>\n",
       "    <tr>\n",
       "      <th>std</th>\n",
       "      <td>2.885253</td>\n",
       "    </tr>\n",
       "    <tr>\n",
       "      <th>min</th>\n",
       "      <td>-1.502618</td>\n",
       "    </tr>\n",
       "    <tr>\n",
       "      <th>25%</th>\n",
       "      <td>2.486464</td>\n",
       "    </tr>\n",
       "    <tr>\n",
       "      <th>50%</th>\n",
       "      <td>4.986015</td>\n",
       "    </tr>\n",
       "    <tr>\n",
       "      <th>75%</th>\n",
       "      <td>7.484247</td>\n",
       "    </tr>\n",
       "    <tr>\n",
       "      <th>max</th>\n",
       "      <td>17.173670</td>\n",
       "    </tr>\n",
       "  </tbody>\n",
       "</table>\n",
       "</div>"
      ],
      "text/plain": [
       "              score\n",
       "count  89718.000000\n",
       "mean       4.985129\n",
       "std        2.885253\n",
       "min       -1.502618\n",
       "25%        2.486464\n",
       "50%        4.986015\n",
       "75%        7.484247\n",
       "max       17.173670"
      ]
     },
     "execution_count": 700,
     "metadata": {},
     "output_type": "execute_result"
    }
   ],
   "source": [
    "# basic statistical info of the distribution\n",
    "df3.describe()\n",
    "# In comparison to the df1 this destribution has a higher mean value and the percentiles (25-50-75) are also much higher,\n",
    "# indicating that the scores are much higher in this artificial dataset."
   ]
  },
  {
   "cell_type": "code",
   "execution_count": 701,
   "metadata": {},
   "outputs": [
    {
     "data": {
      "text/plain": [
       "T__004712    1\n",
       "T__013976    1\n",
       "T__081484    1\n",
       "T__075737    1\n",
       "T__034965    1\n",
       "            ..\n",
       "T__076664    1\n",
       "T__058094    1\n",
       "T__001089    1\n",
       "T__089600    1\n",
       "T__073004    1\n",
       "Name: id, Length: 89718, dtype: int64"
      ]
     },
     "execution_count": 701,
     "metadata": {},
     "output_type": "execute_result"
    }
   ],
   "source": [
    "# Uniqueness test 'ids': All 'POI ids' are unique \n",
    "df3['id'].value_counts()"
   ]
  },
  {
   "cell_type": "code",
   "execution_count": 702,
   "metadata": {},
   "outputs": [
    {
     "data": {
      "text/plain": [
       "5.466523    1\n",
       "3.984296    1\n",
       "7.291172    1\n",
       "1.947520    1\n",
       "6.488226    1\n",
       "           ..\n",
       "8.238057    1\n",
       "0.848449    1\n",
       "4.555878    1\n",
       "6.879410    1\n",
       "6.656158    1\n",
       "Name: score, Length: 89718, dtype: int64"
      ]
     },
     "execution_count": 702,
     "metadata": {},
     "output_type": "execute_result"
    }
   ],
   "source": [
    "# Uniqueness test 'ids': All scores are unique\n",
    "df3['score'].value_counts()"
   ]
  },
  {
   "cell_type": "code",
   "execution_count": 703,
   "metadata": {},
   "outputs": [
    {
     "data": {
      "image/png": "[encoded data removed]",
      "text/plain": [
       "<Figure size 432x288 with 1 Axes>"
      ]
     },
     "metadata": {
      "needs_background": "light"
     },
     "output_type": "display_data"
    }
   ],
   "source": [
    "#histogram of origianl score distribution among the 10 categories\n",
    "x = df3['score']\n",
    "num_bins = 10\n",
    "n, bins, patches = plt.hist(x, num_bins, facecolor='blue', alpha=0.5, ec='black')\n",
    "plt.show()"
   ]
  },
  {
   "cell_type": "code",
   "execution_count": 704,
   "metadata": {},
   "outputs": [],
   "source": [
    "# sort original dataframe by descending scores\n",
    "df3_sorted = df3.sort_values(by=['score', 'id'], ascending=False)"
   ]
  },
  {
   "cell_type": "markdown",
   "metadata": {},
   "source": [
    "####  RE-SCORING:\n",
    "Also in this case we use an empirical distribution value for a = 1.1"
   ]
  },
  {
   "cell_type": "code",
   "execution_count": 705,
   "metadata": {},
   "outputs": [],
   "source": [
    "#create Zipfian (Zipf) distribution. \n",
    "a = 1.1\n",
    "zipf_dist = np.random.zipf(a,df3.shape[0])"
   ]
  },
  {
   "cell_type": "code",
   "execution_count": 706,
   "metadata": {},
   "outputs": [],
   "source": [
    "#sort Zipf distribution  \n",
    "zipf_dist[::-1].sort()\n",
    "\n",
    "#normalize values between 0-10 to fulfill [GOAL1]\n",
    "zipf_dist_norm = ((zipf_dist-min(zipf_dist))/(max(zipf_dist)-min(zipf_dist))) * 10\n",
    "\n",
    "# add normalized scores as a new column to the dataframe \n",
    "df3_sorted['zipf score'] = zipf_dist_norm"
   ]
  },
  {
   "cell_type": "code",
   "execution_count": 707,
   "metadata": {},
   "outputs": [],
   "source": [
    "# mix score = original_score * weight_orig + zipf_score * weight_zipf\n",
    "weight_zipf = 0.9\n",
    "weight_orig = 0.1\n",
    "mix_score = df3_sorted['score']*weight_orig + df3_sorted['zipf score']*weight_zipf\n",
    "df3_sorted['mix score'] = np.where(df3_sorted['score'] > 10, 10, mix_score)"
   ]
  },
  {
   "cell_type": "code",
   "execution_count": 708,
   "metadata": {},
   "outputs": [
    {
     "data": {
      "text/html": [
       "<div>\n",
       "<style scoped>\n",
       "    .dataframe tbody tr th:only-of-type {\n",
       "        vertical-align: middle;\n",
       "    }\n",
       "\n",
       "    .dataframe tbody tr th {\n",
       "        vertical-align: top;\n",
       "    }\n",
       "\n",
       "    .dataframe thead th {\n",
       "        text-align: right;\n",
       "    }\n",
       "</style>\n",
       "<table border=\"1\" class=\"dataframe\">\n",
       "  <thead>\n",
       "    <tr style=\"text-align: right;\">\n",
       "      <th></th>\n",
       "      <th>id</th>\n",
       "      <th>score</th>\n",
       "      <th>zipf score</th>\n",
       "      <th>mix score</th>\n",
       "    </tr>\n",
       "  </thead>\n",
       "  <tbody>\n",
       "    <tr>\n",
       "      <th>68619</th>\n",
       "      <td>T__016102</td>\n",
       "      <td>17.173670</td>\n",
       "      <td>10.000000</td>\n",
       "      <td>10.000000</td>\n",
       "    </tr>\n",
       "    <tr>\n",
       "      <th>52214</th>\n",
       "      <td>T__016633</td>\n",
       "      <td>9.999817</td>\n",
       "      <td>9.987275</td>\n",
       "      <td>9.988530</td>\n",
       "    </tr>\n",
       "    <tr>\n",
       "      <th>50251</th>\n",
       "      <td>T__061134</td>\n",
       "      <td>9.999769</td>\n",
       "      <td>9.976716</td>\n",
       "      <td>9.979021</td>\n",
       "    </tr>\n",
       "    <tr>\n",
       "      <th>21636</th>\n",
       "      <td>T__025466</td>\n",
       "      <td>9.999729</td>\n",
       "      <td>9.973480</td>\n",
       "      <td>9.976105</td>\n",
       "    </tr>\n",
       "    <tr>\n",
       "      <th>33343</th>\n",
       "      <td>T__029356</td>\n",
       "      <td>9.999644</td>\n",
       "      <td>9.946528</td>\n",
       "      <td>9.951840</td>\n",
       "    </tr>\n",
       "    <tr>\n",
       "      <th>37128</th>\n",
       "      <td>T__080604</td>\n",
       "      <td>9.999448</td>\n",
       "      <td>9.931414</td>\n",
       "      <td>9.938218</td>\n",
       "    </tr>\n",
       "    <tr>\n",
       "      <th>57485</th>\n",
       "      <td>T__082311</td>\n",
       "      <td>9.999048</td>\n",
       "      <td>9.908920</td>\n",
       "      <td>9.917933</td>\n",
       "    </tr>\n",
       "    <tr>\n",
       "      <th>83158</th>\n",
       "      <td>T__066622</td>\n",
       "      <td>9.998935</td>\n",
       "      <td>9.906496</td>\n",
       "      <td>9.915740</td>\n",
       "    </tr>\n",
       "    <tr>\n",
       "      <th>30250</th>\n",
       "      <td>T__016396</td>\n",
       "      <td>9.998898</td>\n",
       "      <td>9.899583</td>\n",
       "      <td>9.909514</td>\n",
       "    </tr>\n",
       "    <tr>\n",
       "      <th>64477</th>\n",
       "      <td>T__065245</td>\n",
       "      <td>9.998880</td>\n",
       "      <td>9.895600</td>\n",
       "      <td>9.905928</td>\n",
       "    </tr>\n",
       "  </tbody>\n",
       "</table>\n",
       "</div>"
      ],
      "text/plain": [
       "              id      score  zipf score  mix score\n",
       "68619  T__016102  17.173670   10.000000  10.000000\n",
       "52214  T__016633   9.999817    9.987275   9.988530\n",
       "50251  T__061134   9.999769    9.976716   9.979021\n",
       "21636  T__025466   9.999729    9.973480   9.976105\n",
       "33343  T__029356   9.999644    9.946528   9.951840\n",
       "37128  T__080604   9.999448    9.931414   9.938218\n",
       "57485  T__082311   9.999048    9.908920   9.917933\n",
       "83158  T__066622   9.998935    9.906496   9.915740\n",
       "30250  T__016396   9.998898    9.899583   9.909514\n",
       "64477  T__065245   9.998880    9.895600   9.905928"
      ]
     },
     "execution_count": 708,
     "metadata": {},
     "output_type": "execute_result"
    }
   ],
   "source": [
    "df3_sorted.head(10)"
   ]
  },
  {
   "cell_type": "code",
   "execution_count": 709,
   "metadata": {},
   "outputs": [
    {
     "data": {
      "image/png": "[encoded data removed]",
      "text/plain": [
       "<Figure size 432x288 with 1 Axes>"
      ]
     },
     "metadata": {
      "needs_background": "light"
     },
     "output_type": "display_data"
    }
   ],
   "source": [
    "#histogram of the Zipf score distribution among the 10 categories\n",
    "x = df3['score']\n",
    "num_bins = 10\n",
    "plt.hist(x[x<=10], num_bins, facecolor='yellow', alpha=0.5, ec='black')\n",
    "\n",
    "\n",
    "x = df3_sorted['mix score']\n",
    "num_bins = 10\n",
    "n, bins, patches = plt.hist(x[x<=10], num_bins, facecolor='blue', alpha=0.5, ec='black')\n",
    "plt.show()"
   ]
  },
  {
   "cell_type": "code",
   "execution_count": 710,
   "metadata": {},
   "outputs": [
    {
     "name": "stdout",
     "output_type": "stream",
     "text": [
      "[77310.  9545.  1008.   536.   366.   260.   241.   189.   145.   118.]\n"
     ]
    }
   ],
   "source": [
    "# number of elements with each score interval \n",
    "print(n)"
   ]
  },
  {
   "cell_type": "code",
   "execution_count": 711,
   "metadata": {},
   "outputs": [
    {
     "data": {
      "text/plain": [
       "0.12840462691926832"
      ]
     },
     "execution_count": 711,
     "metadata": {},
     "output_type": "execute_result"
    }
   ],
   "source": [
    "#percentage of elements with scores between 9 and 10: ~ 0.12% [GOAL3] is satisfied!\n",
    "n[-1]/df1.shape[0]*100"
   ]
  },
  {
   "cell_type": "markdown",
   "metadata": {},
   "source": [
    "## PART 2 - Second data set [Power Function]"
   ]
  },
  {
   "cell_type": "markdown",
   "metadata": {},
   "source": [
    "####  DATA PRE-ANALYSIS:\n",
    "\n",
    "The second data set has duplicate POI ids, which I dropped before performing the analysis - I did not check if the higher or the lower score was kept for each duplicate, which could be done, if necessary"
   ]
  },
  {
   "cell_type": "code",
   "execution_count": 712,
   "metadata": {},
   "outputs": [
    {
     "data": {
      "text/html": [
       "<div>\n",
       "<style scoped>\n",
       "    .dataframe tbody tr th:only-of-type {\n",
       "        vertical-align: middle;\n",
       "    }\n",
       "\n",
       "    .dataframe tbody tr th {\n",
       "        vertical-align: top;\n",
       "    }\n",
       "\n",
       "    .dataframe thead th {\n",
       "        text-align: right;\n",
       "    }\n",
       "</style>\n",
       "<table border=\"1\" class=\"dataframe\">\n",
       "  <thead>\n",
       "    <tr style=\"text-align: right;\">\n",
       "      <th></th>\n",
       "      <th>score</th>\n",
       "    </tr>\n",
       "  </thead>\n",
       "  <tbody>\n",
       "    <tr>\n",
       "      <th>count</th>\n",
       "      <td>154944.000000</td>\n",
       "    </tr>\n",
       "    <tr>\n",
       "      <th>mean</th>\n",
       "      <td>2.543298</td>\n",
       "    </tr>\n",
       "    <tr>\n",
       "      <th>std</th>\n",
       "      <td>1.104681</td>\n",
       "    </tr>\n",
       "    <tr>\n",
       "      <th>min</th>\n",
       "      <td>0.075584</td>\n",
       "    </tr>\n",
       "    <tr>\n",
       "      <th>25%</th>\n",
       "      <td>1.683594</td>\n",
       "    </tr>\n",
       "    <tr>\n",
       "      <th>50%</th>\n",
       "      <td>2.686089</td>\n",
       "    </tr>\n",
       "    <tr>\n",
       "      <th>75%</th>\n",
       "      <td>3.079849</td>\n",
       "    </tr>\n",
       "    <tr>\n",
       "      <th>max</th>\n",
       "      <td>9.978895</td>\n",
       "    </tr>\n",
       "  </tbody>\n",
       "</table>\n",
       "</div>"
      ],
      "text/plain": [
       "               score\n",
       "count  154944.000000\n",
       "mean        2.543298\n",
       "std         1.104681\n",
       "min         0.075584\n",
       "25%         1.683594\n",
       "50%         2.686089\n",
       "75%         3.079849\n",
       "max         9.978895"
      ]
     },
     "execution_count": 712,
     "metadata": {},
     "output_type": "execute_result"
    }
   ],
   "source": [
    "# basic statistical info of the distribution\n",
    "df2.describe()"
   ]
  },
  {
   "cell_type": "code",
   "execution_count": 713,
   "metadata": {},
   "outputs": [],
   "source": [
    "# dropping ALL duplicte values \n",
    "df2 = df2.drop_duplicates(subset='id')"
   ]
  },
  {
   "cell_type": "code",
   "execution_count": 714,
   "metadata": {},
   "outputs": [
    {
     "data": {
      "text/plain": [
       "1.517741    1343\n",
       "2.237741     879\n",
       "1.537905     565\n",
       "1.637741     524\n",
       "2.257905     475\n",
       "2.117741     386\n",
       "1.877741     297\n",
       "1.406766     292\n",
       "2.272559     285\n",
       "2.377905     285\n",
       "Name: score, dtype: int64"
      ]
     },
     "execution_count": 714,
     "metadata": {},
     "output_type": "execute_result"
    }
   ],
   "source": [
    "# Uniqueness test 'score': several scores are repeated. Since we create the new scores based in an external funtion \n",
    "# AND in the original scores, this proportion will not be kept.\n",
    "df2['score'].value_counts().head(10)"
   ]
  },
  {
   "cell_type": "code",
   "execution_count": 715,
   "metadata": {},
   "outputs": [
    {
     "data": {
      "image/png": "[encoded data removed]",
      "text/plain": [
       "<Figure size 432x288 with 1 Axes>"
      ]
     },
     "metadata": {
      "needs_background": "light"
     },
     "output_type": "display_data"
    }
   ],
   "source": [
    "#histogram of origianl score distribution among the 10 categories\n",
    "x = df2['score']\n",
    "num_bins = 10\n",
    "n, bins, patches = plt.hist(x, num_bins, facecolor='blue', alpha=0.5, ec='black')\n",
    "plt.show()"
   ]
  },
  {
   "cell_type": "code",
   "execution_count": 716,
   "metadata": {},
   "outputs": [],
   "source": [
    "# sort original dataframe by descending scores. \n",
    "df2_sorted = df2.sort_values(by=['score', 'id'], ascending=False)"
   ]
  },
  {
   "cell_type": "markdown",
   "metadata": {},
   "source": [
    "####  RE-SCORING:\n",
    "In an first approach I tried to meet the goals by using the Pareto power function, but unfortunalety I could not tune it in a satisfactory way. Instead of using it I decided for the power function, which is a the inverse of the Pareto distribution. \n",
    "\n",
    "I found satisfatory resultss by using a parameter of 0.1. For this function the only necessary normalization was multiplying the distribution x 10, as the generated values are between 0 and 1."
   ]
  },
  {
   "cell_type": "code",
   "execution_count": 724,
   "metadata": {},
   "outputs": [],
   "source": [
    "#create Power distribution. \n",
    "a = 0.1\n",
    "power_dist = np.random.power(a,df2.shape[0])"
   ]
  },
  {
   "cell_type": "code",
   "execution_count": 725,
   "metadata": {},
   "outputs": [],
   "source": [
    "#sort Zipf distribution  \n",
    "power_dist[::-1].sort()\n",
    "\n",
    "#the power function generates values between 0 and 1 - therefore we just need to multiply them by 10 to \"normalize\" them\n",
    "power_dist_norm = power_dist * 10\n",
    "\n",
    "df2_sorted['power score'] = power_dist_norm"
   ]
  },
  {
   "cell_type": "code",
   "execution_count": 726,
   "metadata": {},
   "outputs": [],
   "source": [
    "# mix score = original_score * weight_orig + power_score * weight_power\n",
    "# For this function I got better results but increasing the share of the original scores in the average (0.65-0.35) - \n",
    "# There is, of course, enough room for improvements here!\n",
    "\n",
    "weight_power = 0.65\n",
    "weight_orig = 0.35\n",
    "mix_score = df2_sorted['score']*weight_orig + df2_sorted['power score']*weight_power\n",
    "df2_sorted['mix score'] = np.where(df2_sorted['power score'] <= 10, mix_score, 10)"
   ]
  },
  {
   "cell_type": "code",
   "execution_count": 727,
   "metadata": {},
   "outputs": [
    {
     "data": {
      "text/html": [
       "<div>\n",
       "<style scoped>\n",
       "    .dataframe tbody tr th:only-of-type {\n",
       "        vertical-align: middle;\n",
       "    }\n",
       "\n",
       "    .dataframe tbody tr th {\n",
       "        vertical-align: top;\n",
       "    }\n",
       "\n",
       "    .dataframe thead th {\n",
       "        text-align: right;\n",
       "    }\n",
       "</style>\n",
       "<table border=\"1\" class=\"dataframe\">\n",
       "  <thead>\n",
       "    <tr style=\"text-align: right;\">\n",
       "      <th></th>\n",
       "      <th>id</th>\n",
       "      <th>score</th>\n",
       "      <th>power score</th>\n",
       "      <th>mix score</th>\n",
       "    </tr>\n",
       "  </thead>\n",
       "  <tbody>\n",
       "    <tr>\n",
       "      <th>43633</th>\n",
       "      <td>T__090ce1e666ea</td>\n",
       "      <td>9.978895</td>\n",
       "      <td>9.998317</td>\n",
       "      <td>9.991519</td>\n",
       "    </tr>\n",
       "    <tr>\n",
       "      <th>25320</th>\n",
       "      <td>T__2174d75627c1</td>\n",
       "      <td>9.919893</td>\n",
       "      <td>9.994355</td>\n",
       "      <td>9.968293</td>\n",
       "    </tr>\n",
       "    <tr>\n",
       "      <th>65090</th>\n",
       "      <td>T__85442a13f9b1</td>\n",
       "      <td>9.741483</td>\n",
       "      <td>9.993884</td>\n",
       "      <td>9.905544</td>\n",
       "    </tr>\n",
       "    <tr>\n",
       "      <th>15590</th>\n",
       "      <td>T__4e2dc10ba3e0</td>\n",
       "      <td>9.725527</td>\n",
       "      <td>9.992934</td>\n",
       "      <td>9.899342</td>\n",
       "    </tr>\n",
       "    <tr>\n",
       "      <th>138982</th>\n",
       "      <td>T__a50467a12849</td>\n",
       "      <td>9.658986</td>\n",
       "      <td>9.992670</td>\n",
       "      <td>9.875881</td>\n",
       "    </tr>\n",
       "    <tr>\n",
       "      <th>46281</th>\n",
       "      <td>T__08161a7d68cf</td>\n",
       "      <td>9.638736</td>\n",
       "      <td>9.990514</td>\n",
       "      <td>9.867391</td>\n",
       "    </tr>\n",
       "    <tr>\n",
       "      <th>23814</th>\n",
       "      <td>T__a6a9d3987005</td>\n",
       "      <td>9.564022</td>\n",
       "      <td>9.990415</td>\n",
       "      <td>9.841178</td>\n",
       "    </tr>\n",
       "    <tr>\n",
       "      <th>131141</th>\n",
       "      <td>T__064a9f565efc</td>\n",
       "      <td>9.482713</td>\n",
       "      <td>9.990222</td>\n",
       "      <td>9.812594</td>\n",
       "    </tr>\n",
       "    <tr>\n",
       "      <th>123072</th>\n",
       "      <td>T__450bc550c54e</td>\n",
       "      <td>9.468666</td>\n",
       "      <td>9.987823</td>\n",
       "      <td>9.806118</td>\n",
       "    </tr>\n",
       "    <tr>\n",
       "      <th>22398</th>\n",
       "      <td>T__7346d3b3c938</td>\n",
       "      <td>9.454223</td>\n",
       "      <td>9.986260</td>\n",
       "      <td>9.800047</td>\n",
       "    </tr>\n",
       "  </tbody>\n",
       "</table>\n",
       "</div>"
      ],
      "text/plain": [
       "                     id     score  power score  mix score\n",
       "43633   T__090ce1e666ea  9.978895     9.998317   9.991519\n",
       "25320   T__2174d75627c1  9.919893     9.994355   9.968293\n",
       "65090   T__85442a13f9b1  9.741483     9.993884   9.905544\n",
       "15590   T__4e2dc10ba3e0  9.725527     9.992934   9.899342\n",
       "138982  T__a50467a12849  9.658986     9.992670   9.875881\n",
       "46281   T__08161a7d68cf  9.638736     9.990514   9.867391\n",
       "23814   T__a6a9d3987005  9.564022     9.990415   9.841178\n",
       "131141  T__064a9f565efc  9.482713     9.990222   9.812594\n",
       "123072  T__450bc550c54e  9.468666     9.987823   9.806118\n",
       "22398   T__7346d3b3c938  9.454223     9.986260   9.800047"
      ]
     },
     "execution_count": 727,
     "metadata": {},
     "output_type": "execute_result"
    }
   ],
   "source": [
    "df2_sorted.head(10)"
   ]
  },
  {
   "cell_type": "code",
   "execution_count": 728,
   "metadata": {},
   "outputs": [
    {
     "data": {
      "image/png": "[encoded data removed]",
      "text/plain": [
       "<Figure size 432x288 with 1 Axes>"
      ]
     },
     "metadata": {
      "needs_background": "light"
     },
     "output_type": "display_data"
    }
   ],
   "source": [
    "#histogram of the Zipf score distribution among the 10 categories\n",
    "x = df2_sorted['score']\n",
    "num_bins = 10\n",
    "plt.hist(x, num_bins, facecolor='yellow', alpha=0.5, ec='black')\n",
    "\n",
    "x = df2_sorted['mix score']\n",
    "num_bins = 10\n",
    "n, bins, patches = plt.hist(x[x<=10], num_bins, facecolor='blue', alpha=0.5, ec='black')\n",
    "plt.show()"
   ]
  },
  {
   "cell_type": "code",
   "execution_count": 729,
   "metadata": {},
   "outputs": [
    {
     "name": "stdout",
     "output_type": "stream",
     "text": [
      "[74374. 25255.  7347.  4676.  3476.  2680.  2266.  1831.   611.   173.]\n"
     ]
    }
   ],
   "source": [
    "print(n)"
   ]
  },
  {
   "cell_type": "code",
   "execution_count": 730,
   "metadata": {},
   "outputs": [
    {
     "data": {
      "text/plain": [
       "0.18825424116130016"
      ]
     },
     "execution_count": 730,
     "metadata": {},
     "output_type": "execute_result"
    }
   ],
   "source": [
    "#percentage of elements with scores between 9 and 10: ~ 0.18% [GOAL3] is satisfied!\n",
    "n[-1]/df1.shape[0]*100"
   ]
  },
  {
   "cell_type": "markdown",
   "metadata": {},
   "source": [
    "##  Conclusion:\n",
    "By using the approach of creating a new (normalized) distribution with the Zipf function and then \"weight-averaging\" this  new values and the original scores, I managed to satisfy [GOAL1] and [GOAL3]. The [GOAL2] was, is my opinion, only partially fulfilled using Zipf, as the the massive majority of POIs is between 0 and 1, even though THERE WERE more POIs with score between k-1 and k than between k and k+1 for all k in [1..9]. Results for the first data set and the third data set are quit similar.\n",
    "\n",
    "The Power Function used in Part2 led to better results - the \"drop\" in the amount of POIs for two consecutive intervals (0-1, 1-2...) is not so extreme. Both [GOAL1], [GOAL2] and [GOAL3] are met."
   ]
  },
  {
   "cell_type": "markdown",
   "metadata": {},
   "source": [
    "##  TO-DOs:"
   ]
  },
  {
   "cell_type": "markdown",
   "metadata": {},
   "source": [
    "* Clean the code and encapsule repetitive scripts in more general functions.\n",
    "\n",
    "* Use the third data set to validate also Part2 and also test with other data sets [GOAL 4]\n",
    "\n",
    "* Find better ways to tune the parameter \"a\" for Zipf & Power Functions\n",
    "\n",
    "* Find an optimum for the weight average (original and generated distributions) \n",
    "\n"
   ]
  }
 ],
 "metadata": {
  "kernelspec": {
   "display_name": "Python 3",
   "language": "python",
   "name": "python3"
  },
  "language_info": {
   "codemirror_mode": {
    "name": "ipython",
    "version": 3
   },
   "file_extension": ".py",
   "mimetype": "text/x-python",
   "name": "python",
   "nbconvert_exporter": "python",
   "pygments_lexer": "ipython3",
   "version": "3.6.9"
  }
 },
 "nbformat": 4,
 "nbformat_minor": 2
}
